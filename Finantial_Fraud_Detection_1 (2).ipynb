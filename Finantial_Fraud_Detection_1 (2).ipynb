{
  "nbformat": 4,
  "nbformat_minor": 0,
  "metadata": {
    "colab": {
      "provenance": [],
      "gpuType": "T4"
    },
    "kernelspec": {
      "name": "python3",
      "display_name": "Python 3"
    },
    "language_info": {
      "name": "python"
    },
    "accelerator": "GPU"
  },
  "cells": [
    {
      "cell_type": "code",
      "execution_count": 1,
      "metadata": {
        "colab": {
          "base_uri": "https://localhost:8080/"
        },
        "id": "krOmYAe-uazn",
        "outputId": "196b1ecd-874e-4583-d334-80144b8127ca"
      },
      "outputs": [
        {
          "output_type": "stream",
          "name": "stdout",
          "text": [
            "Requirement already satisfied: pandas in /usr/local/lib/python3.11/dist-packages (2.2.2)\n",
            "Requirement already satisfied: matplotlib in /usr/local/lib/python3.11/dist-packages (3.10.0)\n",
            "Requirement already satisfied: networkx in /usr/local/lib/python3.11/dist-packages (3.5)\n",
            "Requirement already satisfied: numpy>=1.23.2 in /usr/local/lib/python3.11/dist-packages (from pandas) (2.0.2)\n",
            "Requirement already satisfied: python-dateutil>=2.8.2 in /usr/local/lib/python3.11/dist-packages (from pandas) (2.9.0.post0)\n",
            "Requirement already satisfied: pytz>=2020.1 in /usr/local/lib/python3.11/dist-packages (from pandas) (2025.2)\n",
            "Requirement already satisfied: tzdata>=2022.7 in /usr/local/lib/python3.11/dist-packages (from pandas) (2025.2)\n",
            "Requirement already satisfied: contourpy>=1.0.1 in /usr/local/lib/python3.11/dist-packages (from matplotlib) (1.3.3)\n",
            "Requirement already satisfied: cycler>=0.10 in /usr/local/lib/python3.11/dist-packages (from matplotlib) (0.12.1)\n",
            "Requirement already satisfied: fonttools>=4.22.0 in /usr/local/lib/python3.11/dist-packages (from matplotlib) (4.59.0)\n",
            "Requirement already satisfied: kiwisolver>=1.3.1 in /usr/local/lib/python3.11/dist-packages (from matplotlib) (1.4.9)\n",
            "Requirement already satisfied: packaging>=20.0 in /usr/local/lib/python3.11/dist-packages (from matplotlib) (25.0)\n",
            "Requirement already satisfied: pillow>=8 in /usr/local/lib/python3.11/dist-packages (from matplotlib) (11.3.0)\n",
            "Requirement already satisfied: pyparsing>=2.3.1 in /usr/local/lib/python3.11/dist-packages (from matplotlib) (3.2.3)\n",
            "Requirement already satisfied: six>=1.5 in /usr/local/lib/python3.11/dist-packages (from python-dateutil>=2.8.2->pandas) (1.17.0)\n"
          ]
        }
      ],
      "source": [
        "! pip install pandas matplotlib networkx"
      ]
    },
    {
      "cell_type": "code",
      "source": [
        "import pandas as pd\n",
        "import networkx as nx\n",
        "import matplotlib.pyplot as plt"
      ],
      "metadata": {
        "id": "hb3HhWhXvVTS"
      },
      "execution_count": 2,
      "outputs": []
    },
    {
      "cell_type": "code",
      "source": [
        "import pandas as pd\n",
        "\n",
        "# Load data from the API\n",
        "url = \"https://sheetdb.io/api/v1/3digbv94ticxe\"\n",
        "df = pd.read_json(url)\n",
        "\n",
        "# Save the raw data to CSV\n",
        "df.to_csv(\"raw_dataset.csv\", index=False)\n",
        "print(\"Raw dataset saved as raw_dataset.csv\")\n"
      ],
      "metadata": {
        "colab": {
          "base_uri": "https://localhost:8080/"
        },
        "id": "biYktFp8Hkx3",
        "outputId": "41aef2da-0d18-417c-b557-3d66ac117ffd"
      },
      "execution_count": 4,
      "outputs": [
        {
          "output_type": "stream",
          "name": "stdout",
          "text": [
            "Raw dataset saved as raw_dataset.csv\n"
          ]
        }
      ]
    },
    {
      "cell_type": "code",
      "source": [
        "df.head()"
      ],
      "metadata": {
        "colab": {
          "base_uri": "https://localhost:8080/",
          "height": 226
        },
        "id": "EFEjTPIwJTkB",
        "outputId": "73dfc026-1c59-47d1-a499-bc18b343359b"
      },
      "execution_count": 16,
      "outputs": [
        {
          "output_type": "execute_result",
          "data": {
            "text/plain": [
              "  id first_name  last_name                    email  gender   amount  \\\n",
              "0  1    Romonda   Roycroft    rroycroft0@jalbum.net  Female  $434.43   \n",
              "1  2  Annaliese  Trethowan  atrethowan1@squidoo.com  Female  $710.54   \n",
              "2  3     Marion   Hartropp     mhartropp2@hexun.com    Male  $502.79   \n",
              "3  4     Dmitri   Woollard   dwoollard3@myspace.com    Male  $776.08   \n",
              "4  5     Claire     Ilbert   cilbert4@people.com.cn  Female  $463.30   \n",
              "\n",
              "  timestramp location  is_fraud device_used spending_deviation_score  \\\n",
              "0    6:37 PM       KS     False      mobile                    -0.21   \n",
              "1    3:46 AM       IL     False         atm                    -0.14   \n",
              "2    3:21 PM       OH     False         pos                    -1.78   \n",
              "3    5:54 PM       ME     False         pos                     -0.6   \n",
              "4    1:07 PM       ME      True      mobile                     0.79   \n",
              "\n",
              "  velocity_score geo_anomaly_score payment_channel       ip_address  \\\n",
              "0              3              0.22            card   13.101.214.112   \n",
              "1              7              0.96             ACH    172.52.47.194   \n",
              "2             20              0.89            card     185.98.35.23   \n",
              "3              6              0.37   wire_transfer    107.136.36.87   \n",
              "4             13              0.27             ACH  108.161.108.255   \n",
              "\n",
              "  device_hash transaction_type merchant_category  \n",
              "0    D8536477       withdrawal         utilities  \n",
              "1    D2622631       withdrawal            online  \n",
              "2    D4823498          deposit             other  \n",
              "3    D9961380          deposit            online  \n",
              "4    D7637601         transfer         utilities  "
            ],
            "text/html": [
              "\n",
              "  <div id=\"df-f6130937-0eb3-414f-9e1d-49d41e34a5c8\" class=\"colab-df-container\">\n",
              "    <div>\n",
              "<style scoped>\n",
              "    .dataframe tbody tr th:only-of-type {\n",
              "        vertical-align: middle;\n",
              "    }\n",
              "\n",
              "    .dataframe tbody tr th {\n",
              "        vertical-align: top;\n",
              "    }\n",
              "\n",
              "    .dataframe thead th {\n",
              "        text-align: right;\n",
              "    }\n",
              "</style>\n",
              "<table border=\"1\" class=\"dataframe\">\n",
              "  <thead>\n",
              "    <tr style=\"text-align: right;\">\n",
              "      <th></th>\n",
              "      <th>id</th>\n",
              "      <th>first_name</th>\n",
              "      <th>last_name</th>\n",
              "      <th>email</th>\n",
              "      <th>gender</th>\n",
              "      <th>amount</th>\n",
              "      <th>timestramp</th>\n",
              "      <th>location</th>\n",
              "      <th>is_fraud</th>\n",
              "      <th>device_used</th>\n",
              "      <th>spending_deviation_score</th>\n",
              "      <th>velocity_score</th>\n",
              "      <th>geo_anomaly_score</th>\n",
              "      <th>payment_channel</th>\n",
              "      <th>ip_address</th>\n",
              "      <th>device_hash</th>\n",
              "      <th>transaction_type</th>\n",
              "      <th>merchant_category</th>\n",
              "    </tr>\n",
              "  </thead>\n",
              "  <tbody>\n",
              "    <tr>\n",
              "      <th>0</th>\n",
              "      <td>1</td>\n",
              "      <td>Romonda</td>\n",
              "      <td>Roycroft</td>\n",
              "      <td>rroycroft0@jalbum.net</td>\n",
              "      <td>Female</td>\n",
              "      <td>$434.43</td>\n",
              "      <td>6:37 PM</td>\n",
              "      <td>KS</td>\n",
              "      <td>False</td>\n",
              "      <td>mobile</td>\n",
              "      <td>-0.21</td>\n",
              "      <td>3</td>\n",
              "      <td>0.22</td>\n",
              "      <td>card</td>\n",
              "      <td>13.101.214.112</td>\n",
              "      <td>D8536477</td>\n",
              "      <td>withdrawal</td>\n",
              "      <td>utilities</td>\n",
              "    </tr>\n",
              "    <tr>\n",
              "      <th>1</th>\n",
              "      <td>2</td>\n",
              "      <td>Annaliese</td>\n",
              "      <td>Trethowan</td>\n",
              "      <td>atrethowan1@squidoo.com</td>\n",
              "      <td>Female</td>\n",
              "      <td>$710.54</td>\n",
              "      <td>3:46 AM</td>\n",
              "      <td>IL</td>\n",
              "      <td>False</td>\n",
              "      <td>atm</td>\n",
              "      <td>-0.14</td>\n",
              "      <td>7</td>\n",
              "      <td>0.96</td>\n",
              "      <td>ACH</td>\n",
              "      <td>172.52.47.194</td>\n",
              "      <td>D2622631</td>\n",
              "      <td>withdrawal</td>\n",
              "      <td>online</td>\n",
              "    </tr>\n",
              "    <tr>\n",
              "      <th>2</th>\n",
              "      <td>3</td>\n",
              "      <td>Marion</td>\n",
              "      <td>Hartropp</td>\n",
              "      <td>mhartropp2@hexun.com</td>\n",
              "      <td>Male</td>\n",
              "      <td>$502.79</td>\n",
              "      <td>3:21 PM</td>\n",
              "      <td>OH</td>\n",
              "      <td>False</td>\n",
              "      <td>pos</td>\n",
              "      <td>-1.78</td>\n",
              "      <td>20</td>\n",
              "      <td>0.89</td>\n",
              "      <td>card</td>\n",
              "      <td>185.98.35.23</td>\n",
              "      <td>D4823498</td>\n",
              "      <td>deposit</td>\n",
              "      <td>other</td>\n",
              "    </tr>\n",
              "    <tr>\n",
              "      <th>3</th>\n",
              "      <td>4</td>\n",
              "      <td>Dmitri</td>\n",
              "      <td>Woollard</td>\n",
              "      <td>dwoollard3@myspace.com</td>\n",
              "      <td>Male</td>\n",
              "      <td>$776.08</td>\n",
              "      <td>5:54 PM</td>\n",
              "      <td>ME</td>\n",
              "      <td>False</td>\n",
              "      <td>pos</td>\n",
              "      <td>-0.6</td>\n",
              "      <td>6</td>\n",
              "      <td>0.37</td>\n",
              "      <td>wire_transfer</td>\n",
              "      <td>107.136.36.87</td>\n",
              "      <td>D9961380</td>\n",
              "      <td>deposit</td>\n",
              "      <td>online</td>\n",
              "    </tr>\n",
              "    <tr>\n",
              "      <th>4</th>\n",
              "      <td>5</td>\n",
              "      <td>Claire</td>\n",
              "      <td>Ilbert</td>\n",
              "      <td>cilbert4@people.com.cn</td>\n",
              "      <td>Female</td>\n",
              "      <td>$463.30</td>\n",
              "      <td>1:07 PM</td>\n",
              "      <td>ME</td>\n",
              "      <td>True</td>\n",
              "      <td>mobile</td>\n",
              "      <td>0.79</td>\n",
              "      <td>13</td>\n",
              "      <td>0.27</td>\n",
              "      <td>ACH</td>\n",
              "      <td>108.161.108.255</td>\n",
              "      <td>D7637601</td>\n",
              "      <td>transfer</td>\n",
              "      <td>utilities</td>\n",
              "    </tr>\n",
              "  </tbody>\n",
              "</table>\n",
              "</div>\n",
              "    <div class=\"colab-df-buttons\">\n",
              "\n",
              "  <div class=\"colab-df-container\">\n",
              "    <button class=\"colab-df-convert\" onclick=\"convertToInteractive('df-f6130937-0eb3-414f-9e1d-49d41e34a5c8')\"\n",
              "            title=\"Convert this dataframe to an interactive table.\"\n",
              "            style=\"display:none;\">\n",
              "\n",
              "  <svg xmlns=\"http://www.w3.org/2000/svg\" height=\"24px\" viewBox=\"0 -960 960 960\">\n",
              "    <path d=\"M120-120v-720h720v720H120Zm60-500h600v-160H180v160Zm220 220h160v-160H400v160Zm0 220h160v-160H400v160ZM180-400h160v-160H180v160Zm440 0h160v-160H620v160ZM180-180h160v-160H180v160Zm440 0h160v-160H620v160Z\"/>\n",
              "  </svg>\n",
              "    </button>\n",
              "\n",
              "  <style>\n",
              "    .colab-df-container {\n",
              "      display:flex;\n",
              "      gap: 12px;\n",
              "    }\n",
              "\n",
              "    .colab-df-convert {\n",
              "      background-color: #E8F0FE;\n",
              "      border: none;\n",
              "      border-radius: 50%;\n",
              "      cursor: pointer;\n",
              "      display: none;\n",
              "      fill: #1967D2;\n",
              "      height: 32px;\n",
              "      padding: 0 0 0 0;\n",
              "      width: 32px;\n",
              "    }\n",
              "\n",
              "    .colab-df-convert:hover {\n",
              "      background-color: #E2EBFA;\n",
              "      box-shadow: 0px 1px 2px rgba(60, 64, 67, 0.3), 0px 1px 3px 1px rgba(60, 64, 67, 0.15);\n",
              "      fill: #174EA6;\n",
              "    }\n",
              "\n",
              "    .colab-df-buttons div {\n",
              "      margin-bottom: 4px;\n",
              "    }\n",
              "\n",
              "    [theme=dark] .colab-df-convert {\n",
              "      background-color: #3B4455;\n",
              "      fill: #D2E3FC;\n",
              "    }\n",
              "\n",
              "    [theme=dark] .colab-df-convert:hover {\n",
              "      background-color: #434B5C;\n",
              "      box-shadow: 0px 1px 3px 1px rgba(0, 0, 0, 0.15);\n",
              "      filter: drop-shadow(0px 1px 2px rgba(0, 0, 0, 0.3));\n",
              "      fill: #FFFFFF;\n",
              "    }\n",
              "  </style>\n",
              "\n",
              "    <script>\n",
              "      const buttonEl =\n",
              "        document.querySelector('#df-f6130937-0eb3-414f-9e1d-49d41e34a5c8 button.colab-df-convert');\n",
              "      buttonEl.style.display =\n",
              "        google.colab.kernel.accessAllowed ? 'block' : 'none';\n",
              "\n",
              "      async function convertToInteractive(key) {\n",
              "        const element = document.querySelector('#df-f6130937-0eb3-414f-9e1d-49d41e34a5c8');\n",
              "        const dataTable =\n",
              "          await google.colab.kernel.invokeFunction('convertToInteractive',\n",
              "                                                    [key], {});\n",
              "        if (!dataTable) return;\n",
              "\n",
              "        const docLinkHtml = 'Like what you see? Visit the ' +\n",
              "          '<a target=\"_blank\" href=https://colab.research.google.com/notebooks/data_table.ipynb>data table notebook</a>'\n",
              "          + ' to learn more about interactive tables.';\n",
              "        element.innerHTML = '';\n",
              "        dataTable['output_type'] = 'display_data';\n",
              "        await google.colab.output.renderOutput(dataTable, element);\n",
              "        const docLink = document.createElement('div');\n",
              "        docLink.innerHTML = docLinkHtml;\n",
              "        element.appendChild(docLink);\n",
              "      }\n",
              "    </script>\n",
              "  </div>\n",
              "\n",
              "\n",
              "    <div id=\"df-28d0e4b0-a848-4184-8e0d-6a12ffc71d7c\">\n",
              "      <button class=\"colab-df-quickchart\" onclick=\"quickchart('df-28d0e4b0-a848-4184-8e0d-6a12ffc71d7c')\"\n",
              "                title=\"Suggest charts\"\n",
              "                style=\"display:none;\">\n",
              "\n",
              "<svg xmlns=\"http://www.w3.org/2000/svg\" height=\"24px\"viewBox=\"0 0 24 24\"\n",
              "     width=\"24px\">\n",
              "    <g>\n",
              "        <path d=\"M19 3H5c-1.1 0-2 .9-2 2v14c0 1.1.9 2 2 2h14c1.1 0 2-.9 2-2V5c0-1.1-.9-2-2-2zM9 17H7v-7h2v7zm4 0h-2V7h2v10zm4 0h-2v-4h2v4z\"/>\n",
              "    </g>\n",
              "</svg>\n",
              "      </button>\n",
              "\n",
              "<style>\n",
              "  .colab-df-quickchart {\n",
              "      --bg-color: #E8F0FE;\n",
              "      --fill-color: #1967D2;\n",
              "      --hover-bg-color: #E2EBFA;\n",
              "      --hover-fill-color: #174EA6;\n",
              "      --disabled-fill-color: #AAA;\n",
              "      --disabled-bg-color: #DDD;\n",
              "  }\n",
              "\n",
              "  [theme=dark] .colab-df-quickchart {\n",
              "      --bg-color: #3B4455;\n",
              "      --fill-color: #D2E3FC;\n",
              "      --hover-bg-color: #434B5C;\n",
              "      --hover-fill-color: #FFFFFF;\n",
              "      --disabled-bg-color: #3B4455;\n",
              "      --disabled-fill-color: #666;\n",
              "  }\n",
              "\n",
              "  .colab-df-quickchart {\n",
              "    background-color: var(--bg-color);\n",
              "    border: none;\n",
              "    border-radius: 50%;\n",
              "    cursor: pointer;\n",
              "    display: none;\n",
              "    fill: var(--fill-color);\n",
              "    height: 32px;\n",
              "    padding: 0;\n",
              "    width: 32px;\n",
              "  }\n",
              "\n",
              "  .colab-df-quickchart:hover {\n",
              "    background-color: var(--hover-bg-color);\n",
              "    box-shadow: 0 1px 2px rgba(60, 64, 67, 0.3), 0 1px 3px 1px rgba(60, 64, 67, 0.15);\n",
              "    fill: var(--button-hover-fill-color);\n",
              "  }\n",
              "\n",
              "  .colab-df-quickchart-complete:disabled,\n",
              "  .colab-df-quickchart-complete:disabled:hover {\n",
              "    background-color: var(--disabled-bg-color);\n",
              "    fill: var(--disabled-fill-color);\n",
              "    box-shadow: none;\n",
              "  }\n",
              "\n",
              "  .colab-df-spinner {\n",
              "    border: 2px solid var(--fill-color);\n",
              "    border-color: transparent;\n",
              "    border-bottom-color: var(--fill-color);\n",
              "    animation:\n",
              "      spin 1s steps(1) infinite;\n",
              "  }\n",
              "\n",
              "  @keyframes spin {\n",
              "    0% {\n",
              "      border-color: transparent;\n",
              "      border-bottom-color: var(--fill-color);\n",
              "      border-left-color: var(--fill-color);\n",
              "    }\n",
              "    20% {\n",
              "      border-color: transparent;\n",
              "      border-left-color: var(--fill-color);\n",
              "      border-top-color: var(--fill-color);\n",
              "    }\n",
              "    30% {\n",
              "      border-color: transparent;\n",
              "      border-left-color: var(--fill-color);\n",
              "      border-top-color: var(--fill-color);\n",
              "      border-right-color: var(--fill-color);\n",
              "    }\n",
              "    40% {\n",
              "      border-color: transparent;\n",
              "      border-right-color: var(--fill-color);\n",
              "      border-top-color: var(--fill-color);\n",
              "    }\n",
              "    60% {\n",
              "      border-color: transparent;\n",
              "      border-right-color: var(--fill-color);\n",
              "    }\n",
              "    80% {\n",
              "      border-color: transparent;\n",
              "      border-right-color: var(--fill-color);\n",
              "      border-bottom-color: var(--fill-color);\n",
              "    }\n",
              "    90% {\n",
              "      border-color: transparent;\n",
              "      border-bottom-color: var(--fill-color);\n",
              "    }\n",
              "  }\n",
              "</style>\n",
              "\n",
              "      <script>\n",
              "        async function quickchart(key) {\n",
              "          const quickchartButtonEl =\n",
              "            document.querySelector('#' + key + ' button');\n",
              "          quickchartButtonEl.disabled = true;  // To prevent multiple clicks.\n",
              "          quickchartButtonEl.classList.add('colab-df-spinner');\n",
              "          try {\n",
              "            const charts = await google.colab.kernel.invokeFunction(\n",
              "                'suggestCharts', [key], {});\n",
              "          } catch (error) {\n",
              "            console.error('Error during call to suggestCharts:', error);\n",
              "          }\n",
              "          quickchartButtonEl.classList.remove('colab-df-spinner');\n",
              "          quickchartButtonEl.classList.add('colab-df-quickchart-complete');\n",
              "        }\n",
              "        (() => {\n",
              "          let quickchartButtonEl =\n",
              "            document.querySelector('#df-28d0e4b0-a848-4184-8e0d-6a12ffc71d7c button');\n",
              "          quickchartButtonEl.style.display =\n",
              "            google.colab.kernel.accessAllowed ? 'block' : 'none';\n",
              "        })();\n",
              "      </script>\n",
              "    </div>\n",
              "\n",
              "    </div>\n",
              "  </div>\n"
            ],
            "application/vnd.google.colaboratory.intrinsic+json": {
              "type": "dataframe",
              "variable_name": "df",
              "summary": "{\n  \"name\": \"df\",\n  \"rows\": 10000,\n  \"fields\": [\n    {\n      \"column\": \"id\",\n      \"properties\": {\n        \"dtype\": \"string\",\n        \"num_unique_values\": 10000,\n        \"samples\": [\n          \"6253\",\n          \"4685\",\n          \"1732\"\n        ],\n        \"semantic_type\": \"\",\n        \"description\": \"\"\n      }\n    },\n    {\n      \"column\": \"first_name\",\n      \"properties\": {\n        \"dtype\": \"string\",\n        \"num_unique_values\": 5739,\n        \"samples\": [\n          \"Miltie\",\n          \"Glendon\",\n          \"Cullie\"\n        ],\n        \"semantic_type\": \"\",\n        \"description\": \"\"\n      }\n    },\n    {\n      \"column\": \"last_name\",\n      \"properties\": {\n        \"dtype\": \"string\",\n        \"num_unique_values\": 9040,\n        \"samples\": [\n          \"Ollington\",\n          \"Earlam\",\n          \"Messitt\"\n        ],\n        \"semantic_type\": \"\",\n        \"description\": \"\"\n      }\n    },\n    {\n      \"column\": \"email\",\n      \"properties\": {\n        \"dtype\": \"string\",\n        \"num_unique_values\": 10000,\n        \"samples\": [\n          \"jkem70@cornell.edu\",\n          \"cbettensonj0@jugem.jp\",\n          \"llittlechildkb@deliciousdays.com\"\n        ],\n        \"semantic_type\": \"\",\n        \"description\": \"\"\n      }\n    },\n    {\n      \"column\": \"gender\",\n      \"properties\": {\n        \"dtype\": \"category\",\n        \"num_unique_values\": 9,\n        \"samples\": [\n          \"\",\n          \"Male\",\n          \"Non-binary\"\n        ],\n        \"semantic_type\": \"\",\n        \"description\": \"\"\n      }\n    },\n    {\n      \"column\": \"amount\",\n      \"properties\": {\n        \"dtype\": \"string\",\n        \"num_unique_values\": 9307,\n        \"samples\": [\n          \"$136.94\",\n          \"$144.38\",\n          \"$696.28\"\n        ],\n        \"semantic_type\": \"\",\n        \"description\": \"\"\n      }\n    },\n    {\n      \"column\": \"timestramp\",\n      \"properties\": {\n        \"dtype\": \"object\",\n        \"num_unique_values\": 1440,\n        \"samples\": [\n          \"7:52 PM\",\n          \"2:16 AM\",\n          \"4:28 PM\"\n        ],\n        \"semantic_type\": \"\",\n        \"description\": \"\"\n      }\n    },\n    {\n      \"column\": \"location\",\n      \"properties\": {\n        \"dtype\": \"category\",\n        \"num_unique_values\": 50,\n        \"samples\": [\n          \"NC\",\n          \"\",\n          \"IA\"\n        ],\n        \"semantic_type\": \"\",\n        \"description\": \"\"\n      }\n    },\n    {\n      \"column\": \"is_fraud\",\n      \"properties\": {\n        \"dtype\": \"boolean\",\n        \"num_unique_values\": 2,\n        \"samples\": [\n          true,\n          false\n        ],\n        \"semantic_type\": \"\",\n        \"description\": \"\"\n      }\n    },\n    {\n      \"column\": \"device_used\",\n      \"properties\": {\n        \"dtype\": \"category\",\n        \"num_unique_values\": 5,\n        \"samples\": [\n          \"atm\",\n          \"\"\n        ],\n        \"semantic_type\": \"\",\n        \"description\": \"\"\n      }\n    },\n    {\n      \"column\": \"spending_deviation_score\",\n      \"properties\": {\n        \"dtype\": \"category\",\n        \"num_unique_values\": 578,\n        \"samples\": [\n          \"-1\",\n          \"3.17\"\n        ],\n        \"semantic_type\": \"\",\n        \"description\": \"\"\n      }\n    },\n    {\n      \"column\": \"velocity_score\",\n      \"properties\": {\n        \"dtype\": \"category\",\n        \"num_unique_values\": 21,\n        \"samples\": [\n          \"3\",\n          \"10\"\n        ],\n        \"semantic_type\": \"\",\n        \"description\": \"\"\n      }\n    },\n    {\n      \"column\": \"geo_anomaly_score\",\n      \"properties\": {\n        \"dtype\": \"category\",\n        \"num_unique_values\": 102,\n        \"samples\": [\n          \"0.65\",\n          \"0.71\"\n        ],\n        \"semantic_type\": \"\",\n        \"description\": \"\"\n      }\n    },\n    {\n      \"column\": \"payment_channel\",\n      \"properties\": {\n        \"dtype\": \"category\",\n        \"num_unique_values\": 5,\n        \"samples\": [\n          \"ACH\",\n          \"\"\n        ],\n        \"semantic_type\": \"\",\n        \"description\": \"\"\n      }\n    },\n    {\n      \"column\": \"ip_address\",\n      \"properties\": {\n        \"dtype\": \"string\",\n        \"num_unique_values\": 10000,\n        \"samples\": [\n          \"108.23.196.197\",\n          \"74.239.0.34\"\n        ],\n        \"semantic_type\": \"\",\n        \"description\": \"\"\n      }\n    },\n    {\n      \"column\": \"device_hash\",\n      \"properties\": {\n        \"dtype\": \"string\",\n        \"num_unique_values\": 9992,\n        \"samples\": [\n          \"D2077932\",\n          \"D8259724\"\n        ],\n        \"semantic_type\": \"\",\n        \"description\": \"\"\n      }\n    },\n    {\n      \"column\": \"transaction_type\",\n      \"properties\": {\n        \"dtype\": \"category\",\n        \"num_unique_values\": 5,\n        \"samples\": [\n          \"deposit\",\n          \"\"\n        ],\n        \"semantic_type\": \"\",\n        \"description\": \"\"\n      }\n    },\n    {\n      \"column\": \"merchant_category\",\n      \"properties\": {\n        \"dtype\": \"category\",\n        \"num_unique_values\": 9,\n        \"samples\": [\n          \"restaurant\",\n          \"online\"\n        ],\n        \"semantic_type\": \"\",\n        \"description\": \"\"\n      }\n    }\n  ]\n}"
            }
          },
          "metadata": {},
          "execution_count": 16
        }
      ]
    },
    {
      "cell_type": "code",
      "source": [
        "# 2. Standardize fraud column to boolean\n",
        "df['is_fraud'] = df['is_fraud'].astype(str).str.strip().str.upper().isin([\"TRUE\", \"1\", \"YES\"])\n",
        "df['is_fraud'].value_counts()\n"
      ],
      "metadata": {
        "id": "tsjd3W-hv3NH",
        "colab": {
          "base_uri": "https://localhost:8080/",
          "height": 178
        },
        "outputId": "1030204f-4250-4e7a-c478-116e7d6f2b69"
      },
      "execution_count": 20,
      "outputs": [
        {
          "output_type": "execute_result",
          "data": {
            "text/plain": [
              "is_fraud\n",
              "False    5098\n",
              "True     4902\n",
              "Name: count, dtype: int64"
            ],
            "text/html": [
              "<div>\n",
              "<style scoped>\n",
              "    .dataframe tbody tr th:only-of-type {\n",
              "        vertical-align: middle;\n",
              "    }\n",
              "\n",
              "    .dataframe tbody tr th {\n",
              "        vertical-align: top;\n",
              "    }\n",
              "\n",
              "    .dataframe thead th {\n",
              "        text-align: right;\n",
              "    }\n",
              "</style>\n",
              "<table border=\"1\" class=\"dataframe\">\n",
              "  <thead>\n",
              "    <tr style=\"text-align: right;\">\n",
              "      <th></th>\n",
              "      <th>count</th>\n",
              "    </tr>\n",
              "    <tr>\n",
              "      <th>is_fraud</th>\n",
              "      <th></th>\n",
              "    </tr>\n",
              "  </thead>\n",
              "  <tbody>\n",
              "    <tr>\n",
              "      <th>False</th>\n",
              "      <td>5098</td>\n",
              "    </tr>\n",
              "    <tr>\n",
              "      <th>True</th>\n",
              "      <td>4902</td>\n",
              "    </tr>\n",
              "  </tbody>\n",
              "</table>\n",
              "</div><br><label><b>dtype:</b> int64</label>"
            ]
          },
          "metadata": {},
          "execution_count": 20
        }
      ]
    },
    {
      "cell_type": "code",
      "source": [
        "# 3. Create the graph\n",
        "G = nx.Graph()"
      ],
      "metadata": {
        "id": "usG40J0dv4v7"
      },
      "execution_count": 6,
      "outputs": []
    },
    {
      "cell_type": "code",
      "source": [
        "G"
      ],
      "metadata": {
        "colab": {
          "base_uri": "https://localhost:8080/"
        },
        "id": "i6jdozjYwCSx",
        "outputId": "417366a9-c627-49d8-e166-16f9f8171b8b"
      },
      "execution_count": 7,
      "outputs": [
        {
          "output_type": "execute_result",
          "data": {
            "text/plain": [
              "<networkx.classes.graph.Graph at 0x7c60b564c790>"
            ]
          },
          "metadata": {},
          "execution_count": 7
        }
      ]
    },
    {
      "cell_type": "code",
      "source": [
        "#Tuning\n",
        "for _, row in df.iterrows():\n",
        "    user = f\"user_{row['id']}\"\n",
        "    device = f\"device_{row['device_hash']}\"\n",
        "    ip = f\"ip_{row['ip_address']}\"\n",
        "    merchant = f\"merchant_{row['merchant_category']}\"\n",
        "    location = f\"loc_{row['location']}\""
      ],
      "metadata": {
        "id": "Y9-taNy-wHWt"
      },
      "execution_count": 8,
      "outputs": []
    },
    {
      "cell_type": "code",
      "source": [
        "G.add_node(user)"
      ],
      "metadata": {
        "id": "COOnpf07wzJi"
      },
      "execution_count": 9,
      "outputs": []
    },
    {
      "cell_type": "code",
      "source": [
        "\n",
        "    # Add edges if data is available\n",
        "    if pd.notna(row['device_hash']):\n",
        "        G.add_edge(user, device)\n",
        "    if pd.notna(row['ip_address']):\n",
        "        G.add_edge(user, ip)\n",
        "    if pd.notna(row['merchant_category']):\n",
        "        G.add_edge(user, merchant)\n",
        "    if pd.notna(row['location']):\n",
        "        G.add_edge(user, location)"
      ],
      "metadata": {
        "id": "wGAFtyG3wqAS"
      },
      "execution_count": 10,
      "outputs": []
    },
    {
      "cell_type": "code",
      "source": [
        "# 4. Get fraud users\n",
        "fraud_users = {f\"user_{uid}\" for uid in df.loc[df['is_fraud'], 'id']}"
      ],
      "metadata": {
        "id": "uzi7a9vfwN2C"
      },
      "execution_count": 11,
      "outputs": []
    },
    {
      "cell_type": "code",
      "source": [
        "\n",
        "# 5. Get fraud subgraph (fraud users + their neighbors)\n",
        "fraud_nodes = set(fraud_users)\n",
        "for u in fraud_users:\n",
        "    if u in G:\n",
        "        fraud_nodes.update(G.neighbors(u))\n",
        "\n",
        "fraud_subgraph = G.subgraph(fraud_nodes)\n"
      ],
      "metadata": {
        "id": "Z5i1aVuNwRFS"
      },
      "execution_count": 12,
      "outputs": []
    },
    {
      "cell_type": "code",
      "source": [
        "# 6. Plot fraud subgraph\n",
        "plt.figure(figsize=(10, 8))\n",
        "pos = nx.spring_layout(fraud_subgraph, seed=100, k=0.3)\n",
        "node_colors = [\"red\" if n in fraud_users else \"lightblue\" for n in fraud_subgraph.nodes()]\n",
        "nx.draw(fraud_subgraph, pos, node_size=50, with_labels=True, edge_color=\"gray\", node_color=node_colors)\n",
        "plt.title(\"Fraud Network (Fraud Users in Red + Neighbors)\", fontsize=14)\n",
        "plt.show()"
      ],
      "metadata": {
        "colab": {
          "base_uri": "https://localhost:8080/",
          "height": 860
        },
        "id": "TZgmiy9Rw8QX",
        "outputId": "e02da201-ecb6-4b7d-afdc-fe6c8ed4014c"
      },
      "execution_count": 13,
      "outputs": [
        {
          "output_type": "display_data",
          "data": {
            "text/plain": [
              "<Figure size 1000x800 with 1 Axes>"
            ],
            "image/png": "[encoded data removed]"
          },
          "metadata": {}
        }
      ]
    }
  ]
}